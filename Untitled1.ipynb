{
 "cells": [
  {
   "cell_type": "code",
   "execution_count": null,
   "metadata": {},
   "outputs": [],
   "source": [
    "print(\"Hola\")"
   ]
  },
  {
   "cell_type": "code",
   "execution_count": null,
   "metadata": {},
   "outputs": [],
   "source": [
    "import random\n",
    "x= str\n",
    "while x  !=\"exit\":\n",
    "    numeros_aleatorios = random.randint(1,9)\n",
    "    user = int (input(\"adivina que numero es generado aleatóriamente: \\n\"))\n",
    "    if user == numeros_aleatorios:\n",
    "        print (\"acertaste!!\")\n",
    "    else:\n",
    "        print(\"no, ese no es el número, era {}\".format(numeros_aleatorios))\n",
    "    x = input(\"presione 'exit' para terminar\\n\") \n",
    "               "
   ]
  }
 ],
 "metadata": {
  "kernelspec": {
   "display_name": "Python 3",
   "language": "python",
   "name": "python3"
  },
  "language_info": {
   "codemirror_mode": {
    "name": "ipython",
    "version": 3
   },
   "file_extension": ".py",
   "mimetype": "text/x-python",
   "name": "python",
   "nbconvert_exporter": "python",
   "pygments_lexer": "ipython3",
   "version": "3.7.6"
  }
 },
 "nbformat": 4,
 "nbformat_minor": 4
}
