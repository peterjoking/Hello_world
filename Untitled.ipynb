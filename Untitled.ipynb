{
 "cells": [
  {
   "cell_type": "code",
   "execution_count": 3,
   "metadata": {},
   "outputs": [],
   "source": [
    "import requests\n",
    "from bs4 import BeautifulSoup\n",
    "\n",
    "def print_to_text(base_url):\n",
    "    \"\"\"\n",
    "    :param base_url: URL of article to scrape\n",
    "    :return: naked content to text file\n",
    "    \"\"\"\n",
    "    r = requests.get(base_url)\n",
    "    soup = BeautifulSoup(r.text)\n",
    "    with open(\"work less.txt\", \"w\") as textfile:\n",
    "        for paragraph in soup.find_all(dir=\"ltr\"):\n",
    "            textfile.write(paragraph.text.replace(\"<span>\",\"\"))\n",
    "\n",
    "if __name__ == \"__main__\":\n",
    "    #Chose my own article\n",
    "    base_url = \"http://www.mogidascruzes.sp.gov.br/pagina/secretaria-de-saude/coronavirus-medidas-de-contencao-adotadas-em-mogi-das-cruzes\"\n",
    "\n",
    "    print_to_text(base_url)\n",
    "\n",
    "    \n"
   ]
  },
  {
   "cell_type": "code",
   "execution_count": 4,
   "metadata": {},
   "outputs": [
    {
     "name": "stdout",
     "output_type": "stream",
     "text": [
      "hola\n"
     ]
    }
   ],
   "source": [
    "print(\"hola\")\n"
   ]
  }
 ],
 "metadata": {
  "kernelspec": {
   "display_name": "Python 3",
   "language": "python",
   "name": "python3"
  },
  "language_info": {
   "codemirror_mode": {
    "name": "ipython",
    "version": 3
   },
   "file_extension": ".py",
   "mimetype": "text/x-python",
   "name": "python",
   "nbconvert_exporter": "python",
   "pygments_lexer": "ipython3",
   "version": "3.7.6"
  }
 },
 "nbformat": 4,
 "nbformat_minor": 4
}
